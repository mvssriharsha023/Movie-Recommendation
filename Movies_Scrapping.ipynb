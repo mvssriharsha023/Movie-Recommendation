{
 "cells": [
  {
   "cell_type": "code",
   "execution_count": 1,
   "metadata": {},
   "outputs": [],
   "source": [
    "import requests\n",
    "import pandas as pd\n",
    "from bs4 import BeautifulSoup\n",
    "import numpy as np"
   ]
  },
  {
   "cell_type": "markdown",
   "metadata": {},
   "source": [
    "### TMDB Api key"
   ]
  },
  {
   "cell_type": "code",
   "execution_count": 2,
   "metadata": {},
   "outputs": [],
   "source": [
    "api_key = '4f3ea99b4d5dc24f9a1c63a0371e8c09'\n",
    "\n",
    "# TMDb API endpoints\n",
    "base_url = 'https://api.themoviedb.org/3/'\n",
    "genre_endpoint = 'genre/movie/list'\n",
    "search_endpoint = 'search/movie'"
   ]
  },
  {
   "cell_type": "code",
   "execution_count": 3,
   "metadata": {},
   "outputs": [
    {
     "name": "stdout",
     "output_type": "stream",
     "text": [
      "Genres stored in dictionary 'genres'!!\n"
     ]
    }
   ],
   "source": [
    "genres = dict()\n",
    "def get_movie_genres():\n",
    "    url = f'{base_url}{genre_endpoint}?api_key={api_key}'\n",
    "    response = requests.get(url)\n",
    "    if response.status_code == 200:\n",
    "        data = response.json()\n",
    "        for genre in data['genres']:\n",
    "            key = genre['id']\n",
    "            value = genre['name']\n",
    "            genres[key] = value\n",
    "        return genres\n",
    "    else:\n",
    "        print(f\"Failed to retrieve genres. Status code: {response.status_code}\")\n",
    "        return []\n",
    "get_movie_genres()\n",
    "print(\"Genres stored in dictionary 'genres'!!\")"
   ]
  },
  {
   "cell_type": "code",
   "execution_count": 4,
   "metadata": {},
   "outputs": [
    {
     "data": {
      "text/plain": [
       "{28: 'Action',\n",
       " 12: 'Adventure',\n",
       " 16: 'Animation',\n",
       " 35: 'Comedy',\n",
       " 80: 'Crime',\n",
       " 99: 'Documentary',\n",
       " 18: 'Drama',\n",
       " 10751: 'Family',\n",
       " 14: 'Fantasy',\n",
       " 36: 'History',\n",
       " 27: 'Horror',\n",
       " 10402: 'Music',\n",
       " 9648: 'Mystery',\n",
       " 10749: 'Romance',\n",
       " 878: 'Science Fiction',\n",
       " 10770: 'TV Movie',\n",
       " 53: 'Thriller',\n",
       " 10752: 'War',\n",
       " 37: 'Western'}"
      ]
     },
     "execution_count": 4,
     "metadata": {},
     "output_type": "execute_result"
    }
   ],
   "source": [
    "genres"
   ]
  },
  {
   "cell_type": "code",
   "execution_count": 5,
   "metadata": {},
   "outputs": [],
   "source": [
    "# Function to search for a movie by title and get its rating\n",
    "def search_movie(title):\n",
    "    url = f'{base_url}{search_endpoint}?api_key={api_key}&query={title}'\n",
    "    response = requests.get(url)\n",
    "    \n",
    "    if response.status_code == 200:\n",
    "        data = response.json()\n",
    "        results = data.get('results', [])\n",
    "        if results:\n",
    "            movie = results[0]\n",
    "            genre_ids= movie.get('genre_ids')\n",
    "            overview = movie.get('overview')\n",
    "            movie_id = movie.get('id')\n",
    "            return genre_ids, overview, movie_id\n",
    "        else:\n",
    "            print(\"Movie not found.\")\n",
    "            return None, None, None\n",
    "    else:\n",
    "        print(f\"Failed to retrieve movie data. Status code: {response.status_code}\")\n",
    "        return None, None, None"
   ]
  },
  {
   "cell_type": "code",
   "execution_count": 6,
   "metadata": {},
   "outputs": [
    {
     "name": "stdout",
     "output_type": "stream",
     "text": [
      "Sci-Fi Action Mystery \n",
      "A world of the very near future in which cattle, fish, and even the family pet can be cloned. But cloning humans is illegal - that is until family man Adam Gibson (Arnold Schwarzenegger) comes home from work one day to find a clone has replaced him. Taken from his family and plunged into a sinister world he doesn't understand, Gibson must not only save himself from the assassins who must destroy him to protect their secret, but uncover who and what is behind the horrible things happening to him.\n",
      "8452\n"
     ]
    }
   ],
   "source": [
    "movie_title = 'The 6th Day'\n",
    "genre_ids, overview, movie_id = search_movie(movie_title)\n",
    "st = \"\"\n",
    "for i in genre_ids:\n",
    "    st = st + genres[i] + \" \"\n",
    "print(st.replace(\"Science Fiction\", \"Sci-Fi\"))\n",
    "print(overview)\n",
    "print(movie_id)"
   ]
  },
  {
   "cell_type": "markdown",
   "metadata": {},
   "source": [
    "### Year: 2000 - 2001"
   ]
  },
  {
   "cell_type": "code",
   "execution_count": 7,
   "metadata": {},
   "outputs": [],
   "source": [
    "def building_dataframe(link, year):\n",
    "    movies = pd.DataFrame(columns=['Movie_id','Title','Director', 'Actor1', 'Actor2', 'Actor3', 'Genre', 'Overview', 'Language'])\n",
    "    page = requests.get(link).text\n",
    "    soup = BeautifulSoup(page, \"html.parser\")\n",
    "    table = soup.find_all('table')[2]\n",
    "    for row in table.find('tbody').find_all('tr'):\n",
    "        if row.find('td') != None:\n",
    "            col = row.find_all('td')\n",
    "            Title = col[0].text.strip()\n",
    "            Director = col[1].text.strip()\n",
    "            Cast = col[2].text.split(\",\")\n",
    "            Actor1 = Cast[0]\n",
    "            Actor2 = np.nan\n",
    "            Actor3 = np.nan\n",
    "            if len(Cast) > 1:\n",
    "                Actor2 = Cast[1]\n",
    "            if len(Cast) > 2:\n",
    "                Actor3 = Cast[2]\n",
    "\n",
    "            Genre = \"\"\n",
    "            genre_ids, Overview, movie_id = search_movie(Title)\n",
    "        \n",
    "            if genre_ids != None:\n",
    "                for i in genre_ids:\n",
    "                    Genre = Genre + genres[i] + \" \"\n",
    "            Genre = Genre.replace(\"Science Fiction\", \"Sci-Fi\").strip()\n",
    "            \n",
    "            movies = movies.append({'Movie_id': movie_id,'Title': Title, 'Director': Director, 'Actor1': Actor1, 'Actor2': Actor2, 'Actor3': Actor3, 'Genre': Genre, 'Overview': Overview, 'Language': 'English'}, ignore_index=True)\n",
    "    try:\n",
    "        movies.to_csv(f\"movies_{year}.csv\", index=False)\n",
    "        print(\"File saved.\")\n",
    "    except:\n",
    "        print(\"Failed to save file.\")"
   ]
  },
  {
   "cell_type": "code",
   "execution_count": 8,
   "metadata": {},
   "outputs": [
    {
     "name": "stdout",
     "output_type": "stream",
     "text": [
      "File saved.\n"
     ]
    }
   ],
   "source": [
    "# building_dataframe(\"https://en.wikipedia.org/wiki/List_of_American_films_of_2000\", \"2000\")"
   ]
  },
  {
   "cell_type": "code",
   "execution_count": 9,
   "metadata": {},
   "outputs": [
    {
     "name": "stdout",
     "output_type": "stream",
     "text": [
      "Movie not found.\n",
      "File saved.\n"
     ]
    }
   ],
   "source": [
    "# building_dataframe(\"https://en.wikipedia.org/wiki/List_of_American_films_of_2001\", \"2001\")"
   ]
  },
  {
   "cell_type": "markdown",
   "metadata": {},
   "source": [
    "### Year: 2002 - 2003"
   ]
  },
  {
   "cell_type": "code",
   "execution_count": 10,
   "metadata": {},
   "outputs": [],
   "source": [
    "def building_dataframe(link, year):\n",
    "    movies = pd.DataFrame(columns=['Movie_id','Title','Director', 'Actor1', 'Actor2', 'Actor3', 'Genre', 'Overview', 'Language'])\n",
    "    page = requests.get(link).text\n",
    "    soup = BeautifulSoup(page, \"html.parser\")\n",
    "    table = soup.find_all('table')[4]\n",
    "    for row in table.find('tbody').find_all('tr'):\n",
    "        if row.find('td') != None:\n",
    "            col = row.find_all('td')\n",
    "            Title = col[0].text.strip()\n",
    "            Director = col[1].text.strip()\n",
    "            Cast = col[2].text.split(\",\")\n",
    "            Actor1 = Cast[0]\n",
    "            Actor2 = np.nan\n",
    "            Actor3 = np.nan\n",
    "            if len(Cast) > 1:\n",
    "                Actor2 = Cast[1]\n",
    "            if len(Cast) > 2:\n",
    "                Actor3 = Cast[2]\n",
    "\n",
    "            Genre = \"\"\n",
    "            genre_ids, Overview, movie_id = search_movie(Title)\n",
    "        \n",
    "            if genre_ids != None:\n",
    "                for i in genre_ids:\n",
    "                    Genre = Genre + genres[i] + \" \"\n",
    "            Genre = Genre.replace(\"Science Fiction\", \"Sci-Fi\").strip()\n",
    "            \n",
    "            movies = movies.append({'Movie_id': movie_id,'Title': Title, 'Director': Director, 'Actor1': Actor1, 'Actor2': Actor2, 'Actor3': Actor3, 'Genre': Genre, 'Overview': Overview, 'Language': 'English'}, ignore_index=True)\n",
    "    try:\n",
    "        movies.to_csv(f\"movies_{year}.csv\", index=False)\n",
    "        print(\"File saved.\")\n",
    "    except:\n",
    "        print(\"Failed to save file.\")"
   ]
  },
  {
   "cell_type": "code",
   "execution_count": 11,
   "metadata": {},
   "outputs": [
    {
     "name": "stdout",
     "output_type": "stream",
     "text": [
      "File saved.\n"
     ]
    }
   ],
   "source": [
    "# building_dataframe(\"https://en.wikipedia.org/wiki/List_of_American_films_of_2002\", \"2002\")"
   ]
  },
  {
   "cell_type": "code",
   "execution_count": 12,
   "metadata": {},
   "outputs": [
    {
     "name": "stdout",
     "output_type": "stream",
     "text": [
      "Movie not found.\n",
      "File saved.\n"
     ]
    }
   ],
   "source": [
    "# building_dataframe(\"https://en.wikipedia.org/wiki/List_of_American_films_of_2003\", \"2003\")"
   ]
  },
  {
   "cell_type": "markdown",
   "metadata": {},
   "source": [
    "### Year: 2004 - 2005"
   ]
  },
  {
   "cell_type": "code",
   "execution_count": 13,
   "metadata": {},
   "outputs": [],
   "source": [
    "def building_dataframe(link, year):\n",
    "    df1 = pd.read_html(link, header=0)[2]\n",
    "    df2 = pd.read_html(link, header=0)[3]\n",
    "    df3 = pd.read_html(link, header=0)[4]\n",
    "    df4 = pd.read_html(link, header=0)[5]\n",
    "    movies = df1.append(df2.append(df3.append(df4,ignore_index=True),ignore_index=True),ignore_index=True)\n",
    "    movies.drop(['Opening', 'Opening.1', 'Production company', 'Genre'], axis=1, inplace=True)\n",
    "    movies['Year'] = year\n",
    "    movies.drop(['Ref.'], inplace=True, axis=1)\n",
    "\n",
    "    directors = []\n",
    "    for director in movies['Cast and crew']:\n",
    "        if str(\" (director)\") in str(director):\n",
    "            directors.append(director.split(\" (director)\")[0].strip())\n",
    "        elif \" (directors)\" in str(director):\n",
    "            directors.append(director.split(\" (directors)\")[0].strip())\n",
    "        elif \" (director/screenplay)\" in str(director):\n",
    "            directors.append(director.split(\" (director/screenplay)\")[0].strip())\n",
    "        else:\n",
    "            directors.append(str(director).split(\";\")[0].strip())\n",
    "    movies['Director'] = directors\n",
    "\n",
    "    Actor1 = []\n",
    "    Actor2 = []\n",
    "    Actor3 = []\n",
    "\n",
    "    for cast in movies['Cast and crew']:\n",
    "        if(len(str(cast).split(\";\")[-1].split(\",\")) > 3):\n",
    "            Actor1.append(str(cast).split(\";\")[-1].split(\",\")[0].strip())\n",
    "            Actor2.append(str(cast).split(\";\")[-1].split(\",\")[1].strip())\n",
    "            Actor3.append(str(cast).split(\";\")[-1].split(\",\")[2].strip())\n",
    "        elif(len(str(cast).split(\",\")) > 2):\n",
    "            Actor1.append(str(cast).split(\";\")[-1].split(\",\")[0].strip())\n",
    "            Actor2.append(str(cast).split(\";\")[-1].split(\",\")[1].strip())\n",
    "            Actor3.append(None)\n",
    "        elif(len(str(cast).split(\",\")) > 1):\n",
    "            Actor1.append(str(cast).split(\";\")[-1].split(\",\")[0].strip())\n",
    "            Actor2.append(None)\n",
    "            Actor3.append(None)\n",
    "        else:\n",
    "            Actor1.append(None)\n",
    "            Actor2.append(None)\n",
    "            Actor3.append(None)\n",
    "\n",
    "\n",
    "    movies['Actor1'] = Actor1\n",
    "    movies['Actor2'] = Actor2\n",
    "    movies['Actor3'] = Actor3\n",
    "\n",
    "    movie_ids = []\n",
    "    g = []\n",
    "    overviews = []\n",
    "    for title in movies['Title']:\n",
    "        Genre = \"\"\n",
    "        genre_ids, Overview, movie_id = search_movie(title)\n",
    "\n",
    "        if genre_ids != None:\n",
    "            for i in genre_ids:\n",
    "                if i in genres.keys():\n",
    "                    Genre = Genre + genres[i] + \" \"\n",
    "                    \n",
    "        Genre = Genre.replace(\"Science Fiction\", \"Sci-Fi\").strip()\n",
    "        g.append(Genre)\n",
    "        overviews.append(Overview)\n",
    "        movie_ids.append(movie_id)\n",
    "    movies['Genre'] = g\n",
    "    movies['Overview'] = overviews\n",
    "    movies['Movie_id'] = movie_ids\n",
    "    movies['Language'] = 'English'\n",
    "\n",
    "    movies = movies[['Movie_id', 'Title', 'Director', 'Actor1', 'Actor2', 'Actor3', 'Genre', 'Overview', 'Language']]\n",
    "    \n",
    "    try:\n",
    "        movies.to_csv(f\"movies_{year}.csv\", index=False)\n",
    "        print(\"File saved.\")\n",
    "    except:\n",
    "        print(\"Failed to save file.\")"
   ]
  },
  {
   "cell_type": "code",
   "execution_count": 14,
   "metadata": {},
   "outputs": [
    {
     "name": "stdout",
     "output_type": "stream",
     "text": [
      "Movie not found.\n",
      "File saved.\n"
     ]
    }
   ],
   "source": [
    "# building_dataframe(\"https://en.wikipedia.org/wiki/List_of_American_films_of_2004\", \"2004\")"
   ]
  },
  {
   "cell_type": "code",
   "execution_count": 15,
   "metadata": {},
   "outputs": [
    {
     "name": "stdout",
     "output_type": "stream",
     "text": [
      "Movie not found.\n",
      "File saved.\n"
     ]
    }
   ],
   "source": [
    "# building_dataframe(\"https://en.wikipedia.org/wiki/List_of_American_films_of_2005\", \"2005\")"
   ]
  },
  {
   "cell_type": "markdown",
   "metadata": {},
   "source": [
    "### Year: 2006 - 2009"
   ]
  },
  {
   "cell_type": "code",
   "execution_count": 16,
   "metadata": {},
   "outputs": [],
   "source": [
    "def building_dataframe(link, year):\n",
    "    df1 = pd.read_html(link, header=0)[2]\n",
    "    df2 = pd.read_html(link, header=0)[3]\n",
    "    df3 = pd.read_html(link, header=0)[4]\n",
    "    df4 = pd.read_html(link, header=0)[5]\n",
    "    movies = df1.append(df2.append(df3.append(df4,ignore_index=True),ignore_index=True),ignore_index=True)\n",
    "    movies.drop(['Opening', 'Opening.1', 'Production company'], axis=1, inplace=True)\n",
    "    movies['Year'] = year\n",
    "\n",
    "    directors = []\n",
    "    for director in movies['Cast and crew']:\n",
    "        if str(\" (director)\") in str(director):\n",
    "            directors.append(director.split(\" (director)\")[0].strip())\n",
    "        elif \" (directors)\" in str(director):\n",
    "            directors.append(director.split(\" (directors)\")[0].strip())\n",
    "        elif \" (director/screenplay)\" in str(director):\n",
    "            directors.append(director.split(\" (director/screenplay)\")[0].strip())\n",
    "        else:\n",
    "            directors.append(str(director).split(\";\")[0].strip())\n",
    "    movies['Director'] = directors\n",
    "\n",
    "    Actor1 = []\n",
    "    Actor2 = []\n",
    "    Actor3 = []\n",
    "\n",
    "    for cast in movies['Cast and crew']:\n",
    "        if(len(str(cast).split(\";\")[-1].split(\",\")) > 3):\n",
    "            Actor1.append(str(cast).split(\";\")[-1].split(\",\")[0].strip())\n",
    "            Actor2.append(str(cast).split(\";\")[-1].split(\",\")[1].strip())\n",
    "            Actor3.append(str(cast).split(\";\")[-1].split(\",\")[2].strip())\n",
    "        elif(len(str(cast).split(\";\")[-1].split(\",\")) > 2):\n",
    "            Actor1.append(str(cast).split(\";\")[-1].split(\",\")[0].strip())\n",
    "            Actor2.append(str(cast).split(\";\")[-1].split(\",\")[1].strip())\n",
    "            Actor3.append(None)\n",
    "        elif(len(str(cast).split(\";\")[-1].split(\",\")) > 1):\n",
    "            Actor1.append(str(cast).split(\";\")[-1].split(\",\")[0].strip())\n",
    "            Actor2.append(None)\n",
    "            Actor3.append(None)\n",
    "        else:\n",
    "            Actor1.append(None)\n",
    "            Actor2.append(None)\n",
    "            Actor3.append(None)\n",
    "    \n",
    "    movies['Actor1'] = Actor1\n",
    "    movies['Actor2'] = Actor2\n",
    "    movies['Actor3'] = Actor3\n",
    "    \n",
    "    movie_ids = []\n",
    "    g = []\n",
    "    overviews = []\n",
    "    for title in movies['Title']:\n",
    "        Genre = \"\"\n",
    "        genre_ids, Overview, movie_id = search_movie(title)\n",
    "\n",
    "        if genre_ids != None:\n",
    "            for i in genre_ids:\n",
    "                if i in genres.keys():\n",
    "                    Genre = Genre + genres[i] + \" \"\n",
    "                    \n",
    "        Genre = Genre.replace(\"Science Fiction\", \"Sci-Fi\").strip()\n",
    "        g.append(Genre)\n",
    "        overviews.append(Overview)\n",
    "        movie_ids.append(movie_id)\n",
    "    movies['Genre'] = g\n",
    "    movies['Overview'] = overviews\n",
    "    movies['Movie_id'] = movie_ids\n",
    "    movies['Language'] = 'English'\n",
    "\n",
    "    movies = movies[['Movie_id', 'Title', 'Director', 'Actor1', 'Actor2', 'Actor3', 'Genre', 'Overview', 'Language']]\n",
    "    \n",
    "\n",
    "    try:\n",
    "        movies.to_csv(f\"movies_{year}.csv\", index=False)\n",
    "        print(\"File saved.\")\n",
    "    except:\n",
    "        print(\"Failed to save file.\")"
   ]
  },
  {
   "cell_type": "code",
   "execution_count": 17,
   "metadata": {},
   "outputs": [
    {
     "name": "stdout",
     "output_type": "stream",
     "text": [
      "File saved.\n"
     ]
    }
   ],
   "source": [
    "# building_dataframe(\"https://en.wikipedia.org/wiki/List_of_American_films_of_2006\", \"2006\")"
   ]
  },
  {
   "cell_type": "code",
   "execution_count": 18,
   "metadata": {},
   "outputs": [
    {
     "name": "stdout",
     "output_type": "stream",
     "text": [
      "Movie not found.\n",
      "Movie not found.\n",
      "Movie not found.\n",
      "Movie not found.\n",
      "File saved.\n"
     ]
    }
   ],
   "source": [
    "# building_dataframe(\"https://en.wikipedia.org/wiki/List_of_American_films_of_2007\", \"2007\")"
   ]
  },
  {
   "cell_type": "code",
   "execution_count": 19,
   "metadata": {},
   "outputs": [
    {
     "name": "stdout",
     "output_type": "stream",
     "text": [
      "Movie not found.\n",
      "File saved.\n"
     ]
    }
   ],
   "source": [
    "# building_dataframe(\"https://en.wikipedia.org/wiki/List_of_American_films_of_2008\", \"2008\")"
   ]
  },
  {
   "cell_type": "code",
   "execution_count": 20,
   "metadata": {},
   "outputs": [
    {
     "name": "stdout",
     "output_type": "stream",
     "text": [
      "Movie not found.\n",
      "Movie not found.\n",
      "Movie not found.\n",
      "Movie not found.\n",
      "Movie not found.\n",
      "Movie not found.\n",
      "Movie not found.\n",
      "File saved.\n"
     ]
    }
   ],
   "source": [
    "# building_dataframe(\"https://en.wikipedia.org/wiki/List_of_American_films_of_2009\", \"2009\")"
   ]
  },
  {
   "cell_type": "code",
   "execution_count": 21,
   "metadata": {},
   "outputs": [
    {
     "name": "stdout",
     "output_type": "stream",
     "text": [
      "Movie not found.\n",
      "File saved.\n"
     ]
    }
   ],
   "source": [
    "# building_dataframe(\"https://en.wikipedia.org/wiki/List_of_American_films_of_2011\", \"2011\")"
   ]
  },
  {
   "cell_type": "code",
   "execution_count": 22,
   "metadata": {},
   "outputs": [
    {
     "name": "stdout",
     "output_type": "stream",
     "text": [
      "Movie not found.\n",
      "Movie not found.\n",
      "File saved.\n"
     ]
    }
   ],
   "source": [
    "# building_dataframe(\"https://en.wikipedia.org/wiki/List_of_American_films_of_2013\", \"2013\")"
   ]
  },
  {
   "cell_type": "code",
   "execution_count": 23,
   "metadata": {},
   "outputs": [
    {
     "name": "stdout",
     "output_type": "stream",
     "text": [
      "File saved.\n"
     ]
    }
   ],
   "source": [
    "# building_dataframe(\"https://en.wikipedia.org/wiki/List_of_American_films_of_2014\", \"2014\")"
   ]
  },
  {
   "cell_type": "code",
   "execution_count": 24,
   "metadata": {},
   "outputs": [
    {
     "name": "stdout",
     "output_type": "stream",
     "text": [
      "File saved.\n"
     ]
    }
   ],
   "source": [
    "# building_dataframe(\"https://en.wikipedia.org/wiki/List_of_American_films_of_2015\", \"2015\")"
   ]
  },
  {
   "cell_type": "code",
   "execution_count": 25,
   "metadata": {},
   "outputs": [
    {
     "name": "stdout",
     "output_type": "stream",
     "text": [
      "File saved.\n"
     ]
    }
   ],
   "source": [
    "# building_dataframe(\"https://en.wikipedia.org/wiki/List_of_American_films_of_2017\", \"2017\")"
   ]
  },
  {
   "cell_type": "code",
   "execution_count": 26,
   "metadata": {},
   "outputs": [
    {
     "name": "stdout",
     "output_type": "stream",
     "text": [
      "File saved.\n"
     ]
    }
   ],
   "source": [
    "# building_dataframe(\"https://en.wikipedia.org/wiki/List_of_American_films_of_2018\", \"2018\")"
   ]
  },
  {
   "cell_type": "code",
   "execution_count": 27,
   "metadata": {},
   "outputs": [
    {
     "name": "stdout",
     "output_type": "stream",
     "text": [
      "File saved.\n"
     ]
    }
   ],
   "source": [
    "# building_dataframe(\"https://en.wikipedia.org/wiki/List_of_American_films_of_2019\", \"2019\")"
   ]
  },
  {
   "cell_type": "code",
   "execution_count": 28,
   "metadata": {},
   "outputs": [
    {
     "name": "stdout",
     "output_type": "stream",
     "text": [
      "Movie not found.\n",
      "Movie not found.\n",
      "File saved.\n"
     ]
    }
   ],
   "source": [
    "# building_dataframe(\"https://en.wikipedia.org/wiki/List_of_American_films_of_2020\", \"2020\")"
   ]
  },
  {
   "cell_type": "code",
   "execution_count": 29,
   "metadata": {},
   "outputs": [
    {
     "name": "stdout",
     "output_type": "stream",
     "text": [
      "Movie not found.\n",
      "File saved.\n"
     ]
    }
   ],
   "source": [
    "# building_dataframe(\"https://en.wikipedia.org/wiki/List_of_American_films_of_2021\", \"2021\")"
   ]
  },
  {
   "cell_type": "code",
   "execution_count": 30,
   "metadata": {},
   "outputs": [
    {
     "name": "stdout",
     "output_type": "stream",
     "text": [
      "Movie not found.\n",
      "Movie not found.\n",
      "File saved.\n"
     ]
    }
   ],
   "source": [
    "# building_dataframe(\"https://en.wikipedia.org/wiki/List_of_American_films_of_2022\", \"2022\")"
   ]
  },
  {
   "cell_type": "code",
   "execution_count": 31,
   "metadata": {},
   "outputs": [],
   "source": [
    "def building_dataframe(link, year):\n",
    "    df1 = pd.read_html(link, header=0)[2]\n",
    "    df2 = pd.read_html(link, header=0)[3]\n",
    "    df3 = pd.read_html(link, header=0)[4]\n",
    "    df4 = pd.read_html(link, header=0)[5]\n",
    "    movies = df1.append(df2.append(df3.append(df4,ignore_index=True),ignore_index=True),ignore_index=True)\n",
    "    movies.drop(['Opening', 'Opening.1', 'Production Company'], axis=1, inplace=True)\n",
    "    movies['Year'] = year\n",
    "\n",
    "    directors = []\n",
    "    for director in movies['Cast and crew']:\n",
    "        if str(\" (director)\") in str(director):\n",
    "            directors.append(director.split(\" (director)\")[0].strip())\n",
    "        elif \" (directors)\" in str(director):\n",
    "            directors.append(director.split(\" (directors)\")[0].strip())\n",
    "        elif \" (director/screenplay)\" in str(director):\n",
    "            directors.append(director.split(\" (director/screenplay)\")[0].strip())\n",
    "        else:\n",
    "            directors.append(str(director).split(\";\")[0].strip())\n",
    "    movies['Director'] = directors\n",
    "\n",
    "    Actor1 = []\n",
    "    Actor2 = []\n",
    "    Actor3 = []\n",
    "\n",
    "    for cast in movies['Cast and crew']:\n",
    "        if(len(str(cast).split(\";\")[-1].split(\",\")) > 3):\n",
    "            Actor1.append(str(cast).split(\";\")[-1].split(\",\")[0].strip())\n",
    "            Actor2.append(str(cast).split(\";\")[-1].split(\",\")[1].strip())\n",
    "            Actor3.append(str(cast).split(\";\")[-1].split(\",\")[2].strip())\n",
    "        elif(len(str(cast).split(\";\")[-1].split(\",\")) > 2):\n",
    "            Actor1.append(str(cast).split(\";\")[-1].split(\",\")[0].strip())\n",
    "            Actor2.append(str(cast).split(\";\")[-1].split(\",\")[1].strip())\n",
    "            Actor3.append(None)\n",
    "        elif(len(str(cast).split(\";\")[-1].split(\",\")) > 1):\n",
    "            Actor1.append(str(cast).split(\";\")[-1].split(\",\")[0].strip())\n",
    "            Actor2.append(None)\n",
    "            Actor3.append(None)\n",
    "        else:\n",
    "            Actor1.append(None)\n",
    "            Actor2.append(None)\n",
    "            Actor3.append(None)\n",
    "    \n",
    "    movies['Actor1'] = Actor1\n",
    "    movies['Actor2'] = Actor2\n",
    "    movies['Actor3'] = Actor3\n",
    "\n",
    "    movie_ids = []\n",
    "    g = []\n",
    "    overviews = []\n",
    "    for title in movies['Title']:\n",
    "        Genre = \"\"\n",
    "        genre_ids, Overview, movie_id = search_movie(title)\n",
    "\n",
    "        if genre_ids != None:\n",
    "            for i in genre_ids:\n",
    "                if i in genres.keys():\n",
    "                    Genre = Genre + genres[i] + \" \"\n",
    "                    \n",
    "        Genre = Genre.replace(\"Science Fiction\", \"Sci-Fi\").strip()\n",
    "        g.append(Genre)\n",
    "        overviews.append(Overview)\n",
    "        movie_ids.append(movie_id)\n",
    "    movies['Genre'] = g\n",
    "    movies['Overview'] = overviews\n",
    "    movies['Movie_id'] = movie_ids\n",
    "    movies['Language'] = 'English'\n",
    "\n",
    "    movies = movies[['Movie_id', 'Title', 'Director', 'Actor1', 'Actor2', 'Actor3', 'Genre', 'Overview', 'Language']]\n",
    "    \n",
    "\n",
    "    try:\n",
    "        movies.to_csv(f\"movies_{year}.csv\", index=False)\n",
    "        print(\"File saved.\")\n",
    "    except:\n",
    "        print(\"Failed to save file.\")"
   ]
  },
  {
   "cell_type": "code",
   "execution_count": 32,
   "metadata": {},
   "outputs": [
    {
     "name": "stdout",
     "output_type": "stream",
     "text": [
      "Movie not found.\n",
      "Movie not found.\n",
      "Movie not found.\n",
      "Movie not found.\n",
      "Movie not found.\n",
      "Movie not found.\n",
      "File saved.\n"
     ]
    }
   ],
   "source": [
    "# building_dataframe(\"https://en.wikipedia.org/wiki/List_of_American_films_of_2010\", \"2010\")"
   ]
  },
  {
   "cell_type": "code",
   "execution_count": 33,
   "metadata": {},
   "outputs": [
    {
     "name": "stdout",
     "output_type": "stream",
     "text": [
      "Movie not found.\n",
      "Movie not found.\n",
      "Movie not found.\n",
      "Movie not found.\n",
      "Movie not found.\n",
      "Movie not found.\n",
      "File saved.\n"
     ]
    }
   ],
   "source": [
    "# building_dataframe(\"https://en.wikipedia.org/wiki/List_of_American_films_of_2012\", \"2012\")"
   ]
  },
  {
   "cell_type": "code",
   "execution_count": 34,
   "metadata": {},
   "outputs": [
    {
     "name": "stdout",
     "output_type": "stream",
     "text": [
      "File saved.\n"
     ]
    }
   ],
   "source": [
    "# building_dataframe(\"https://en.wikipedia.org/wiki/List_of_American_films_of_2016\", \"2016\")"
   ]
  }
 ],
 "metadata": {
  "kernelspec": {
   "display_name": "Python 3",
   "language": "python",
   "name": "python3"
  },
  "language_info": {
   "codemirror_mode": {
    "name": "ipython",
    "version": 3
   },
   "file_extension": ".py",
   "mimetype": "text/x-python",
   "name": "python",
   "nbconvert_exporter": "python",
   "pygments_lexer": "ipython3",
   "version": "3.10.0"
  }
 },
 "nbformat": 4,
 "nbformat_minor": 2
}
